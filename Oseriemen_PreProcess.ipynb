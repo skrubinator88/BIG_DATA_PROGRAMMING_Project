{
 "cells": [
  {
   "cell_type": "code",
   "execution_count": 2,
   "metadata": {},
   "outputs": [],
   "source": [
    "import pandas as pd\n",
    "import numpy as np\n",
    "\n",
    "WDI = pd.read_csv('WDIData.csv')\n",
    "\n",
    "removeYears_list = range(1960,1990)\n",
    "wdiColsToDrop = [\"{0}\".format(i) for i in removeYears_list]\n",
    "WDI.drop(columns=wdiColsToDrop, inplace=True)\n"
   ]
  },
  {
   "cell_type": "code",
   "execution_count": 3,
   "metadata": {},
   "outputs": [],
   "source": [
    "WDI.set_index('Country Name', inplace=True)\n",
    "WDI = WDI.loc[\"Afghanistan\":].reindex()\n",
    "WDI.drop(columns=[\"Country Code\"], inplace=True)"
   ]
  },
  {
   "cell_type": "code",
   "execution_count": 5,
   "metadata": {},
   "outputs": [],
   "source": [
    "# https://jakubmarian.com/how-to-understand-gdp-indicators/\n",
    "# Difference between GDP indicators\n",
    "\n",
    "gdpName = 'GDP per capita (constant 2010 US$)'\n",
    "gdpColumnsGDPperCapita_Current_US = WDI.loc[WDI[\"Indicator Name\"].isin([gdpName])]\n",
    "\n",
    "gdpColumnsGDPperCapita_Current_US.to_csv('GDPPerCapita_Current_US$', index=True)"
   ]
  },
  {
   "cell_type": "code",
   "execution_count": 32,
   "metadata": {},
   "outputs": [],
   "source": []
  },
  {
   "cell_type": "code",
   "execution_count": null,
   "metadata": {},
   "outputs": [],
   "source": []
  }
 ],
 "metadata": {
  "kernelspec": {
   "display_name": "Python 3",
   "language": "python",
   "name": "python3"
  },
  "language_info": {
   "codemirror_mode": {
    "name": "ipython",
    "version": 3
   },
   "file_extension": ".py",
   "mimetype": "text/x-python",
   "name": "python",
   "nbconvert_exporter": "python",
   "pygments_lexer": "ipython3",
   "version": "3.7.3"
  }
 },
 "nbformat": 4,
 "nbformat_minor": 2
}
